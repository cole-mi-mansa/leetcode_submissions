{
 "cells": [
  {
   "cell_type": "code",
   "execution_count": 47,
   "metadata": {},
   "outputs": [],
   "source": [
    "def remove_val(array, val):\n",
    "    n = 0\n",
    "    not_equal_to_val = 0\n",
    "    for i in range(0, len(array)):\n",
    "        if array[i] == val:\n",
    "            n += 1\n",
    "            continue\n",
    "        else:\n",
    "            not_equal_to_val += 1\n",
    "            continue\n",
    "    restart = True\n",
    "    while restart:\n",
    "        for j in range(0, len(array)):\n",
    "            if array[j] == val:\n",
    "                array.append('_')\n",
    "                array.remove(array[j])\n",
    "                restart = True\n",
    "                break\n",
    "            else:\n",
    "                restart = False\n",
    "    print(array)\n",
    "    print(f\"{not_equal_to_val} values were not equal to the 'val' in the original array\")\n"
   ]
  },
  {
   "cell_type": "code",
   "execution_count": 48,
   "metadata": {},
   "outputs": [
    {
     "name": "stdout",
     "output_type": "stream",
     "text": [
      "[2, 2, '_', '_']\n",
      "2 values were not equal to the 'val' in the original array\n"
     ]
    }
   ],
   "source": [
    "nums = [3,2,2,3]\n",
    "val = 3\n",
    "remove_val(nums, val)"
   ]
  },
  {
   "cell_type": "code",
   "execution_count": 49,
   "metadata": {},
   "outputs": [
    {
     "name": "stdout",
     "output_type": "stream",
     "text": [
      "[0, 1, 3, 0, 4, '_', '_', '_']\n",
      "5 values were not equal to the 'val' in the original array\n"
     ]
    }
   ],
   "source": [
    "nums = [0,1,2,2,3,0,4,2]\n",
    "val = 2\n",
    "remove_val(nums, val)"
   ]
  }
 ],
 "metadata": {
  "kernelspec": {
   "display_name": "Python 3",
   "language": "python",
   "name": "python3"
  },
  "language_info": {
   "codemirror_mode": {
    "name": "ipython",
    "version": 3
   },
   "file_extension": ".py",
   "mimetype": "text/x-python",
   "name": "python",
   "nbconvert_exporter": "python",
   "pygments_lexer": "ipython3",
   "version": "3.13.1"
  }
 },
 "nbformat": 4,
 "nbformat_minor": 2
}
