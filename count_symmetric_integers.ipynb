{
 "cells": [
  {
   "cell_type": "code",
   "execution_count": 24,
   "id": "0e8d6c91",
   "metadata": {},
   "outputs": [],
   "source": [
    "def first_half(num):\n",
    "    n = len(str(num))//2\n",
    "    f_half = []\n",
    "    for i in range(n):\n",
    "        f_half.append(int(str(num)[i]))\n",
    "    return f_half\n",
    "\n",
    "def second_half(num):\n",
    "    n = len(str(num))//2\n",
    "    s_half = []\n",
    "    for i in range(n, len(str(num))):\n",
    "        s_half.append(int(str(num)[i]))\n",
    "    return s_half\n",
    "\n",
    "def array_sum(arr):\n",
    "    added = 0\n",
    "    for i in arr:\n",
    "        added += i\n",
    "    return added\n",
    "\n",
    "def symmetric(low, high):\n",
    "    symm_count = 0\n",
    "    for i in range(low, high+1):\n",
    "        if len(str(i)) % 2 == 0:\n",
    "            if array_sum(first_half(i)) == array_sum(second_half(i)):\n",
    "                print(i)\n",
    "                symm_count += 1\n",
    "    return symm_count"
   ]
  },
  {
   "cell_type": "code",
   "execution_count": 25,
   "id": "ad1168d1",
   "metadata": {},
   "outputs": [
    {
     "name": "stdout",
     "output_type": "stream",
     "text": [
      "[3, 8, 7]\n",
      "[3]\n",
      "[3, 8, 7, 5, 3]\n"
     ]
    }
   ],
   "source": [
    "print(first_half(387539))\n",
    "print(first_half(38))\n",
    "print(first_half(3875392836))"
   ]
  },
  {
   "cell_type": "code",
   "execution_count": 26,
   "id": "2ad82776",
   "metadata": {},
   "outputs": [
    {
     "name": "stdout",
     "output_type": "stream",
     "text": [
      "[5, 3, 9]\n",
      "[8]\n",
      "[9, 2, 8, 3, 6]\n"
     ]
    }
   ],
   "source": [
    "print(second_half(387539))\n",
    "print(second_half(38))\n",
    "print(second_half(3875392836))"
   ]
  },
  {
   "cell_type": "code",
   "execution_count": 27,
   "id": "39c148e5",
   "metadata": {},
   "outputs": [
    {
     "name": "stdout",
     "output_type": "stream",
     "text": [
      "15\n"
     ]
    }
   ],
   "source": [
    "print(array_sum([1,2,3,4,5]))"
   ]
  },
  {
   "cell_type": "code",
   "execution_count": 28,
   "id": "f7dc7cee",
   "metadata": {},
   "outputs": [
    {
     "name": "stdout",
     "output_type": "stream",
     "text": [
      "11\n",
      "22\n",
      "33\n",
      "44\n",
      "55\n",
      "66\n",
      "77\n",
      "88\n",
      "99\n",
      "9\n"
     ]
    }
   ],
   "source": [
    "print(symmetric(1,100))"
   ]
  },
  {
   "cell_type": "code",
   "execution_count": 29,
   "id": "5d15d0da",
   "metadata": {},
   "outputs": [
    {
     "name": "stdout",
     "output_type": "stream",
     "text": [
      "1203\n",
      "1212\n",
      "1221\n",
      "1230\n",
      "4\n"
     ]
    }
   ],
   "source": [
    "print(symmetric(1200, 1230))"
   ]
  }
 ],
 "metadata": {
  "kernelspec": {
   "display_name": "Python 3",
   "language": "python",
   "name": "python3"
  },
  "language_info": {
   "codemirror_mode": {
    "name": "ipython",
    "version": 3
   },
   "file_extension": ".py",
   "mimetype": "text/x-python",
   "name": "python",
   "nbconvert_exporter": "python",
   "pygments_lexer": "ipython3",
   "version": "3.13.1"
  }
 },
 "nbformat": 4,
 "nbformat_minor": 5
}
