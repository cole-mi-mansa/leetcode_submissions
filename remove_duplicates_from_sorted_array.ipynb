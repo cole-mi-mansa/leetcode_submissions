{
 "cells": [
  {
   "cell_type": "code",
   "execution_count": 27,
   "metadata": {},
   "outputs": [],
   "source": [
    "def remove_add(array, x):\n",
    "    array.remove(array[x])\n",
    "    array.append('_')\n",
    "\n",
    "def noDuplicates(array):\n",
    "    sortedArray = sorted(array)\n",
    "    for i in range(1, len(array)):\n",
    "        if sortedArray[i] == sortedArray[i-1]:\n",
    "            remove_add(sortedArray,i)\n",
    "            if sortedArray[i-1] == sortedArray[i]:\n",
    "                remove_add(sortedArray,i)\n",
    "    print(sortedArray)"
   ]
  },
  {
   "cell_type": "code",
   "execution_count": 28,
   "metadata": {},
   "outputs": [
    {
     "name": "stdout",
     "output_type": "stream",
     "text": [
      "[1, 2, '_']\n"
     ]
    }
   ],
   "source": [
    "nums_1 = [1,1,2]\n",
    "noDuplicates(nums_1)"
   ]
  },
  {
   "cell_type": "code",
   "execution_count": 29,
   "metadata": {},
   "outputs": [
    {
     "name": "stdout",
     "output_type": "stream",
     "text": [
      "[0, 1, 2, 3, 4, '_', '_', '_', '_', '_']\n"
     ]
    }
   ],
   "source": [
    "nums_2 = [0,0,1,1,1,2,2,3,3,4]\n",
    "noDuplicates(nums_2)"
   ]
  },
  {
   "cell_type": "code",
   "execution_count": null,
   "metadata": {},
   "outputs": [
    {
     "name": "stdout",
     "output_type": "stream",
     "text": [
      "[0, 1, 2, 3, 3, 4, 4, 5, 5, '_', '_', '_', '_', '_', '_', '_', '_', '_', '_', '_', '_']\n"
     ]
    }
   ],
   "source": [
    "nums_3 = [0,1,1,2,2,2,3,3,3,3,4,4,4,4,4,5,5,5,5,5,5]\n",
    "noDuplicates(nums_3)\n",
    "#can't seem to get it to work for elements duplicated more than thrice"
   ]
  }
 ],
 "metadata": {
  "kernelspec": {
   "display_name": "Python 3",
   "language": "python",
   "name": "python3"
  },
  "language_info": {
   "codemirror_mode": {
    "name": "ipython",
    "version": 3
   },
   "file_extension": ".py",
   "mimetype": "text/x-python",
   "name": "python",
   "nbconvert_exporter": "python",
   "pygments_lexer": "ipython3",
   "version": "3.13.1"
  }
 },
 "nbformat": 4,
 "nbformat_minor": 2
}
