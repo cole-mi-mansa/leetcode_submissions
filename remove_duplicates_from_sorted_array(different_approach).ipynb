{
 "cells": [
  {
   "cell_type": "code",
   "execution_count": 3,
   "metadata": {},
   "outputs": [],
   "source": [
    "def noDupes(array):\n",
    "    no_rep = []\n",
    "    spaces = []\n",
    "    length = len(array)\n",
    "    array.append(0)\n",
    "    for i in range(0,length):\n",
    "        if array[i] == array[i+1]:\n",
    "            spaces.append('_')\n",
    "        else:\n",
    "            no_rep.append(array[i])\n",
    "    for j in spaces:\n",
    "        no_rep.append(j)\n",
    "    print(no_rep)"
   ]
  },
  {
   "cell_type": "code",
   "execution_count": 4,
   "metadata": {},
   "outputs": [
    {
     "name": "stdout",
     "output_type": "stream",
     "text": [
      "[1, 2, '_']\n"
     ]
    }
   ],
   "source": [
    "nums_1 = [1,1,2]\n",
    "noDupes(nums_1)"
   ]
  },
  {
   "cell_type": "code",
   "execution_count": 5,
   "metadata": {},
   "outputs": [
    {
     "name": "stdout",
     "output_type": "stream",
     "text": [
      "[0, 1, 2, 3, 4, '_', '_', '_', '_', '_']\n"
     ]
    }
   ],
   "source": [
    "nums_2 = [0,0,1,1,1,2,2,3,3,4]\n",
    "noDupes(nums_2)"
   ]
  },
  {
   "cell_type": "code",
   "execution_count": null,
   "metadata": {},
   "outputs": [
    {
     "name": "stdout",
     "output_type": "stream",
     "text": [
      "[0, 1, 2, 3, 4, 5, '_', '_', '_', '_', '_', '_', '_', '_', '_', '_', '_', '_', '_', '_', '_']\n"
     ]
    }
   ],
   "source": [
    "nums_3 = [0,1,1,2,2,2,3,3,3,3,4,4,4,4,4,5,5,5,5,5,5]\n",
    "noDupes(nums_3)\n",
    "#it workkeeeeddddddddddddddddddddd!!!!!!!!!!!!!!!!!!!!"
   ]
  }
 ],
 "metadata": {
  "kernelspec": {
   "display_name": "Python 3",
   "language": "python",
   "name": "python3"
  },
  "language_info": {
   "codemirror_mode": {
    "name": "ipython",
    "version": 3
   },
   "file_extension": ".py",
   "mimetype": "text/x-python",
   "name": "python",
   "nbconvert_exporter": "python",
   "pygments_lexer": "ipython3",
   "version": "3.13.1"
  }
 },
 "nbformat": 4,
 "nbformat_minor": 2
}
