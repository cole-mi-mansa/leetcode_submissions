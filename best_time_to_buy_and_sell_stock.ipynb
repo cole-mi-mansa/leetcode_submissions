{
 "cells": [
  {
   "cell_type": "code",
   "execution_count": 33,
   "metadata": {},
   "outputs": [],
   "source": [
    "def best_buy(array):\n",
    "    if array[-1] == min(array):\n",
    "        print(\"zero profit\")\n",
    "    else:\n",
    "        buy_price = min(array)\n",
    "        for k in range(0,len(array)):\n",
    "            if array[k] == buy_price:\n",
    "                buy_day = k\n",
    "        print(f\"Best to buy on day {buy_day} at price {buy_price}\")\n",
    "\n",
    "def best_sell(array):\n",
    "    if array[-1] != min(array):\n",
    "        buy_price = min(array)\n",
    "        next_days = array[buy_price:]\n",
    "        sell_price = max(next_days)\n",
    "        for j in range(0, len(array)):\n",
    "            if array[j] == sell_price:\n",
    "                sell_day = j\n",
    "        profit = sell_price - buy_price\n",
    "        print(f\"Best to sell on day {sell_day} at price {sell_price} making a profit of {profit}\")\n",
    "\n",
    "def buy_and_sell(array):\n",
    "    best_buy(array)\n",
    "    best_sell(array)"
   ]
  },
  {
   "cell_type": "code",
   "execution_count": 34,
   "metadata": {},
   "outputs": [
    {
     "name": "stdout",
     "output_type": "stream",
     "text": [
      "Best to buy on day 1 at price 1\n",
      "Best to sell on day 4 at price 6 making a profit of 5\n"
     ]
    }
   ],
   "source": [
    "price_1 = [7,1,5,3,6,4]\n",
    "buy_and_sell(price_1)"
   ]
  },
  {
   "cell_type": "code",
   "execution_count": 35,
   "metadata": {},
   "outputs": [
    {
     "name": "stdout",
     "output_type": "stream",
     "text": [
      "zero profit\n"
     ]
    }
   ],
   "source": [
    "price_2 = [7,6,4,3,1]\n",
    "buy_and_sell(price_2)"
   ]
  },
  {
   "cell_type": "code",
   "execution_count": 36,
   "metadata": {},
   "outputs": [
    {
     "name": "stdout",
     "output_type": "stream",
     "text": [
      "Best to buy on day 5 at price 1\n",
      "Best to sell on day 6 at price 10 making a profit of 9\n"
     ]
    }
   ],
   "source": [
    "price_3 = [5,7,4,9,8,1,10]\n",
    "buy_and_sell(price_3)"
   ]
  }
 ],
 "metadata": {
  "kernelspec": {
   "display_name": "Python 3",
   "language": "python",
   "name": "python3"
  },
  "language_info": {
   "codemirror_mode": {
    "name": "ipython",
    "version": 3
   },
   "file_extension": ".py",
   "mimetype": "text/x-python",
   "name": "python",
   "nbconvert_exporter": "python",
   "pygments_lexer": "ipython3",
   "version": "3.13.1"
  }
 },
 "nbformat": 4,
 "nbformat_minor": 2
}
