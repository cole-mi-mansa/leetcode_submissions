{
 "cells": [
  {
   "cell_type": "code",
   "execution_count": null,
   "metadata": {},
   "outputs": [],
   "source": [
    "l_list = {\n",
    "    0: (11, 1),\n",
    "    1: (12, 2),\n",
    "    2: (13, -1)\n",
    "}"
   ]
  },
  {
   "cell_type": "code",
   "execution_count": 2,
   "metadata": {},
   "outputs": [],
   "source": [
    "def display_l_list(linked_list):\n",
    "    for i in range(len(linked_list)):\n",
    "        value, next_index = linked_list[i]\n",
    "        print(value, end=\"-->\")\n",
    "        if next_index == -1:\n",
    "            print(\"None\")        "
   ]
  },
  {
   "cell_type": "code",
   "execution_count": 3,
   "metadata": {},
   "outputs": [
    {
     "name": "stdout",
     "output_type": "stream",
     "text": [
      "11-->12-->13-->None\n"
     ]
    }
   ],
   "source": [
    "display_l_list(l_list)"
   ]
  },
  {
   "cell_type": "code",
   "execution_count": 4,
   "metadata": {},
   "outputs": [
    {
     "name": "stdout",
     "output_type": "stream",
     "text": [
      "10-->11-->12-->13-->None\n"
     ]
    }
   ],
   "source": [
    "def add_element(linked_list, add_value):\n",
    "    last_value, neg_one = linked_list[len(linked_list)-1]\n",
    "    linked_list[len(linked_list)] = last_value, -1\n",
    "    n = len(linked_list)-2\n",
    "    while n >= 1:\n",
    "       prev_value, prev_index = linked_list[n-1]\n",
    "       linked_list[n] = prev_value, n+1\n",
    "       n -= 1\n",
    "    linked_list[0] = add_value, 1\n",
    "\n",
    "add_element(l_list, 10)\n",
    "display_l_list(l_list)"
   ]
  },
  {
   "cell_type": "code",
   "execution_count": 5,
   "metadata": {},
   "outputs": [
    {
     "name": "stdout",
     "output_type": "stream",
     "text": [
      "9-->10-->11-->12-->13-->None\n"
     ]
    }
   ],
   "source": [
    "add_element(l_list, 9)\n",
    "display_l_list(l_list)"
   ]
  },
  {
   "cell_type": "code",
   "execution_count": 6,
   "metadata": {},
   "outputs": [
    {
     "name": "stdout",
     "output_type": "stream",
     "text": [
      "8-->9-->10-->11-->12-->13-->None\n"
     ]
    }
   ],
   "source": [
    "add_element(l_list, 8)\n",
    "display_l_list(l_list)"
   ]
  },
  {
   "cell_type": "code",
   "execution_count": 7,
   "metadata": {},
   "outputs": [
    {
     "name": "stdout",
     "output_type": "stream",
     "text": [
      "7-->8-->9-->10-->11-->12-->13-->None\n"
     ]
    }
   ],
   "source": [
    "add_element(l_list, 7)\n",
    "display_l_list(l_list)"
   ]
  }
 ],
 "metadata": {
  "kernelspec": {
   "display_name": "Python 3",
   "language": "python",
   "name": "python3"
  },
  "language_info": {
   "codemirror_mode": {
    "name": "ipython",
    "version": 3
   },
   "file_extension": ".py",
   "mimetype": "text/x-python",
   "name": "python",
   "nbconvert_exporter": "python",
   "pygments_lexer": "ipython3",
   "version": "3.13.1"
  }
 },
 "nbformat": 4,
 "nbformat_minor": 2
}
