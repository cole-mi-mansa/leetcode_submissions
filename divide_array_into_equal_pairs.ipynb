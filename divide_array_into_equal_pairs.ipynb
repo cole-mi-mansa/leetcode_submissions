{
 "cells": [
  {
   "cell_type": "code",
   "execution_count": 48,
   "metadata": {},
   "outputs": [],
   "source": [
    "def equalPairs(array):\n",
    "    half = len(array)//2\n",
    "    if len(array) % 2 != 0:\n",
    "        print(False)\n",
    "    else:\n",
    "        n = 0\n",
    "        sortedArray = sorted(array)\n",
    "        while len(sortedArray) > 0:\n",
    "            sub = []\n",
    "            sub.append(sortedArray[0])\n",
    "            sub.append(sortedArray[1])\n",
    "            sortedArray.remove(sortedArray[0])\n",
    "            sortedArray.remove(sortedArray[0])\n",
    "            if sub[0] == sub[1]:\n",
    "                n += 1\n",
    "        if n == half:\n",
    "            print(True)\n",
    "        else:\n",
    "            print(False)"
   ]
  },
  {
   "cell_type": "code",
   "execution_count": 51,
   "metadata": {},
   "outputs": [
    {
     "name": "stdout",
     "output_type": "stream",
     "text": [
      "False\n"
     ]
    }
   ],
   "source": [
    "digits = [1,2,1]\n",
    "equalPairs(digits)"
   ]
  },
  {
   "cell_type": "code",
   "execution_count": 49,
   "metadata": {},
   "outputs": [
    {
     "name": "stdout",
     "output_type": "stream",
     "text": [
      "True\n"
     ]
    }
   ],
   "source": [
    "nums = [1,2,3,1,2,3]\n",
    "equalPairs(nums)"
   ]
  },
  {
   "cell_type": "code",
   "execution_count": 50,
   "metadata": {},
   "outputs": [
    {
     "name": "stdout",
     "output_type": "stream",
     "text": [
      "False\n"
     ]
    }
   ],
   "source": [
    "numbers = [1,2,1,5]\n",
    "equalPairs(numbers)"
   ]
  }
 ],
 "metadata": {
  "kernelspec": {
   "display_name": "Python 3",
   "language": "python",
   "name": "python3"
  },
  "language_info": {
   "codemirror_mode": {
    "name": "ipython",
    "version": 3
   },
   "file_extension": ".py",
   "mimetype": "text/x-python",
   "name": "python",
   "nbconvert_exporter": "python",
   "pygments_lexer": "ipython3",
   "version": "3.13.1"
  }
 },
 "nbformat": 4,
 "nbformat_minor": 2
}
