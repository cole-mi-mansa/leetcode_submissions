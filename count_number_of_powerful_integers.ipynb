{
 "cells": [
  {
   "cell_type": "code",
   "execution_count": 1,
   "id": "7a193057",
   "metadata": {},
   "outputs": [],
   "source": [
    "def pwrfl_int(start, finish, limit, s):\n",
    "    count = 0\n",
    "    for i in range(start, finish+1):\n",
    "        n = len(num_list(s))\n",
    "        if len(num_list(i)) >= n and num_list(i)[-n:] == num_list(s):\n",
    "            check = 0\n",
    "            for k in num_list(i)[:-n]:\n",
    "                if k > limit:\n",
    "                    check += 1\n",
    "            if check == 0:\n",
    "                count += 1\n",
    "                print(i)\n",
    "    return f\"There are {count} powerful integers\"\n",
    "\n",
    "def num_list(num):\n",
    "    arr = []\n",
    "    for i in str(num):\n",
    "        arr.append(int(i))\n",
    "    return arr"
   ]
  },
  {
   "cell_type": "code",
   "execution_count": 2,
   "id": "d3c39acb",
   "metadata": {},
   "outputs": [
    {
     "name": "stdout",
     "output_type": "stream",
     "text": [
      "[5, 4, 7, 5, 8, 5]\n"
     ]
    }
   ],
   "source": [
    "print(num_list(547585))"
   ]
  },
  {
   "cell_type": "code",
   "execution_count": 3,
   "id": "98aa5eef",
   "metadata": {},
   "outputs": [
    {
     "name": "stdout",
     "output_type": "stream",
     "text": [
      "124\n",
      "1124\n",
      "2124\n",
      "3124\n",
      "4124\n",
      "There are 5 powerful integers\n"
     ]
    }
   ],
   "source": [
    "print(pwrfl_int(1,6000,4,124))"
   ]
  },
  {
   "cell_type": "code",
   "execution_count": 4,
   "id": "815221a7",
   "metadata": {},
   "outputs": [
    {
     "name": "stdout",
     "output_type": "stream",
     "text": [
      "110\n",
      "210\n",
      "There are 2 powerful integers\n"
     ]
    }
   ],
   "source": [
    "print(pwrfl_int(15,215,6,10))"
   ]
  }
 ],
 "metadata": {
  "kernelspec": {
   "display_name": "Python 3",
   "language": "python",
   "name": "python3"
  },
  "language_info": {
   "codemirror_mode": {
    "name": "ipython",
    "version": 3
   },
   "file_extension": ".py",
   "mimetype": "text/x-python",
   "name": "python",
   "nbconvert_exporter": "python",
   "pygments_lexer": "ipython3",
   "version": "3.13.1"
  }
 },
 "nbformat": 4,
 "nbformat_minor": 5
}
